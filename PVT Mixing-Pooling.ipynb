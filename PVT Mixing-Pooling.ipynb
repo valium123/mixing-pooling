{
 "cells": [
  {
   "cell_type": "code",
   "execution_count": null,
   "metadata": {
    "collapsed": false
   },
   "outputs": [],
   "source": [
    "# 查看当前挂载的数据集目录, 该目录下的变更重启环境后会自动还原\n",
    "# View dataset directory. \n",
    "# This directory will be recovered automatically after resetting environment. \n",
    "!ls /home/aistudio/data"
   ]
  },
  {
   "cell_type": "code",
   "execution_count": null,
   "metadata": {
    "collapsed": false
   },
   "outputs": [],
   "source": [
    "# 查看工作区文件, 该目录下的变更将会持久保存. 请及时清理不必要的文件, 避免加载过慢.\n",
    "# View personal work directory. \n",
    "# All changes under this directory will be kept even after reset. \n",
    "# Please clean unnecessary files in time to speed up environment loading. \n",
    "!ls /home/aistudio/work"
   ]
  },
  {
   "cell_type": "code",
   "execution_count": null,
   "metadata": {
    "collapsed": false
   },
   "outputs": [],
   "source": [
    "# 如果需要进行持久化安装, 需要使用持久化路径, 如下方代码示例:\n",
    "# If a persistence installation is required, \n",
    "# you need to use the persistence path as the following: \n",
    "!mkdir /home/aistudio/external-libraries\n",
    "!pip install beautifulsoup4 -t /home/aistudio/external-libraries"
   ]
  },
  {
   "cell_type": "code",
   "execution_count": null,
   "metadata": {
    "collapsed": false
   },
   "outputs": [],
   "source": [
    "# 同时添加如下代码, 这样每次环境(kernel)启动的时候只要运行下方代码即可: \n",
    "# Also add the following code, \n",
    "# so that every time the environment (kernel) starts, \n",
    "# just run the following code: \n",
    "import sys \n",
    "sys.path.append('/home/aistudio/external-libraries')"
   ]
  },
  {
   "cell_type": "code",
   "execution_count": 1,
   "metadata": {
    "collapsed": false
   },
   "outputs": [
    {
     "name": "stdout",
     "output_type": "stream",
     "text": [
      "Looking in indexes: https://pypi.tuna.tsinghua.edu.cn/simple\n",
      "Collecting ppim==1.0.6\n",
      "  Downloading https://pypi.tuna.tsinghua.edu.cn/packages/1c/93/ca8f00570c0de7d376fa708b7102891230c9bd7d630a655d516634b9a775/ppim-1.0.6-py3-none-any.whl\n",
      "Collecting wget (from ppim==1.0.6)\n",
      "  Downloading https://pypi.tuna.tsinghua.edu.cn/packages/47/6a/62e288da7bcda82b935ff0c6cfe542970f04e29c756b0e147251b2fb251f/wget-3.2.zip\n",
      "Building wheels for collected packages: wget\n",
      "  Building wheel for wget (setup.py) ... \u001b[?25ldone\n",
      "\u001b[?25h  Created wheel for wget: filename=wget-3.2-cp37-none-any.whl size=9675 sha256=99ecf6aebc69367b90cf21139139c5f5bac73a52be8a7b81ea49f6215afcdfdd\n",
      "  Stored in directory: /home/aistudio/.cache/pip/wheels/c7/69/5a/02c6d9e3641a5368290e6d4c1549e2930d78187e941cd24866\n",
      "Successfully built wget\n",
      "Installing collected packages: wget, ppim\n",
      "Successfully installed ppim-1.0.6 wget-3.2\n"
     ]
    }
   ],
   "source": [
    "!pip install ppim==1.0.6"
   ]
  },
  {
   "cell_type": "code",
   "execution_count": 2,
   "metadata": {
    "collapsed": false
   },
   "outputs": [],
   "source": [
    "import numpy as np\r\n",
    "import paddle.optimizer as opt\r\n",
    "import paddle\r\n",
    "import paddle.nn as nn\r\n",
    "\r\n",
    "import ppim.models.vit as vit\r\n",
    "\r\n",
    "from ppim.models.vit import trunc_normal_, zeros_, ones_\r\n",
    "\r\n",
    "\r\n",
    "# 修改版 Attention\r\n",
    "class Attention(nn.Layer):\r\n",
    "    def __init__(self, dim, num_heads=8, qkv_bias=False, qk_scale=None, attn_drop=0., proj_drop=0., sr_ratio=1):\r\n",
    "        super().__init__()\r\n",
    "        assert dim % num_heads == 0, f\"dim {dim} should be divided by num_heads {num_heads}.\"\r\n",
    "\r\n",
    "        self.dim = dim\r\n",
    "        self.num_heads = num_heads\r\n",
    "        head_dim = dim // num_heads\r\n",
    "        self.scale = qk_scale or head_dim ** -0.5\r\n",
    "\r\n",
    "        self.q = nn.Linear(dim, dim, bias_attr=qkv_bias)\r\n",
    "        self.kv = nn.Linear(dim, dim * 2, bias_attr=qkv_bias)\r\n",
    "        self.attn_drop = nn.Dropout(attn_drop)\r\n",
    "        self.proj = nn.Linear(dim, dim)\r\n",
    "        self.proj_drop = nn.Dropout(proj_drop)\r\n",
    "\r\n",
    "        self.sr_ratio = sr_ratio\r\n",
    "        if sr_ratio > 1:\r\n",
    "            self.sr = nn.Conv2D(\r\n",
    "                dim, dim, kernel_size=sr_ratio, stride=sr_ratio)\r\n",
    "            self.norm = nn.LayerNorm(dim)\r\n",
    "\r\n",
    "    def forward(self, x, H, W):\r\n",
    "        B, N, C = x.shape\r\n",
    "        q = self.q(x).reshape((B, N, self.num_heads, C //\r\n",
    "                               self.num_heads)).transpose((0, 2, 1, 3))\r\n",
    "\r\n",
    "        if self.sr_ratio > 1:\r\n",
    "            x_ = x.transpose((0, 2, 1)).reshape((B, C, H, W))\r\n",
    "            x_ = self.sr(x_).reshape((B, C, -1)).transpose((0, 2, 1))\r\n",
    "            x_ = self.norm(x_)\r\n",
    "            kv = self.kv(x_).reshape((B, -1, 2, self.num_heads, C //\r\n",
    "                                      self.num_heads)).transpose((2, 0, 3, 1, 4))\r\n",
    "        else:\r\n",
    "            kv = self.kv(x).reshape((B, -1, 2, self.num_heads, C //\r\n",
    "                                     self.num_heads)).transpose((2, 0, 3, 1, 4))\r\n",
    "        k, v = kv[0], kv[1]\r\n",
    "\r\n",
    "        attn = (q.matmul(k.transpose((0, 1, 3, 2)))) * self.scale\r\n",
    "        attn = nn.functional.softmax(attn, axis=-1)\r\n",
    "        attn = self.attn_drop(attn)\r\n",
    "\r\n",
    "        x = (attn.matmul(v)).transpose((0, 2, 1, 3)).reshape((-1, N, C))\r\n",
    "        x = self.proj(x)\r\n",
    "        x = self.proj_drop(x)\r\n",
    "\r\n",
    "        return x\r\n",
    "\r\n",
    "\r\n",
    "# 替换 ViT Block 中的 Attention\r\n",
    "class Block(vit.Block):\r\n",
    "    def __init__(self, dim, num_heads, mlp_ratio=4., qkv_bias=False, qk_scale=None, drop=0., attn_drop=0.,\r\n",
    "                 drop_path=0., act_layer=nn.GELU, norm_layer=nn.LayerNorm, epsilon=1e-6, sr_ratio=1):\r\n",
    "        super(Block, self).__init__(dim, num_heads, mlp_ratio, qkv_bias, qk_scale, drop,\r\n",
    "                                    attn_drop, drop_path, act_layer, norm_layer, epsilon)\r\n",
    "        self.attn = Attention(\r\n",
    "            dim,\r\n",
    "            num_heads=num_heads, qkv_bias=qkv_bias, qk_scale=qk_scale,\r\n",
    "            attn_drop=attn_drop, proj_drop=drop, sr_ratio=sr_ratio)\r\n",
    "\r\n",
    "    def forward(self, x, H, W):\r\n",
    "        x = x + self.drop_path(self.attn(self.norm1(x), H, W))\r\n",
    "        x = x + self.drop_path(self.mlp(self.norm2(x)))\r\n",
    "        return x\r\n",
    "\r\n",
    "\r\n",
    "# 向 ViT PatchEmbed 中添加一个 LN 层\r\n",
    "class PatchEmbed(vit.PatchEmbed):\r\n",
    "    def __init__(self, img_size=224, patch_size=16, in_chans=3, embed_dim=768):\r\n",
    "        super(PatchEmbed, self).__init__(\r\n",
    "            img_size, patch_size, in_chans, embed_dim)\r\n",
    "        self.norm = nn.LayerNorm(embed_dim)\r\n",
    "\r\n",
    "    def forward(self, x):\r\n",
    "        B, C, H, W = x.shape\r\n",
    "\r\n",
    "        x = self.proj(x).flatten(2).transpose((0, 2, 1))\r\n",
    "        x = self.norm(x)\r\n",
    "        H, W = H // self.patch_size[0], W // self.patch_size[1]\r\n",
    "\r\n",
    "        return x, (H, W)"
   ]
  },
  {
   "cell_type": "code",
   "execution_count": 4,
   "metadata": {
    "collapsed": false
   },
   "outputs": [],
   "source": [
    "# 替换 Block 和 Patch Embedded\r\n",
    "# 每个 Stage 前加入 Patch Embedded\r\n",
    "class PyramidVisionTransformer(nn.Layer):\r\n",
    "    def __init__(self, img_size=224, patch_size=16, in_chans=3, embed_dims=[64, 128, 256, 512],\r\n",
    "                 num_heads=[1, 2, 4, 8], mlp_ratios=[4, 4, 4, 4], qkv_bias=False, qk_scale=None,\r\n",
    "                 drop_rate=0., attn_drop_rate=0., drop_path_rate=0., norm_layer=nn.LayerNorm,\r\n",
    "                 epsilon=1e-6, depths=[3, 4, 6, 3], sr_ratios=[8, 4, 2, 1], class_dim=10):\r\n",
    "        super().__init__()\r\n",
    "        self.class_dim = class_dim\r\n",
    "        self.depths = depths\r\n",
    "        self.pool1=paddle.nn.AvgPool2D([1,7],1)\r\n",
    "        self.pool2=paddle.nn.MaxPool2D([7,1],1)\r\n",
    "        # patch_embed\r\n",
    "        self.patch_embed1 = PatchEmbed(img_size=img_size, patch_size=patch_size, in_chans=in_chans,\r\n",
    "                                       embed_dim=embed_dims[0])\r\n",
    "        self.patch_embed2 = PatchEmbed(img_size=img_size // 4, patch_size=2, in_chans=embed_dims[0],\r\n",
    "                                       embed_dim=embed_dims[1])\r\n",
    "        self.patch_embed3 = PatchEmbed(img_size=img_size // 8, patch_size=2, in_chans=embed_dims[1],\r\n",
    "                                       embed_dim=embed_dims[2])\r\n",
    "        self.patch_embed4 = PatchEmbed(img_size=img_size // 16, patch_size=2, in_chans=embed_dims[2],\r\n",
    "                                       embed_dim=embed_dims[3])\r\n",
    "\r\n",
    "        # pos_embed\r\n",
    "        self.pos_embed1 = self.create_parameter(\r\n",
    "            shape=(1, self.patch_embed1.num_patches, embed_dims[0]), default_initializer=zeros_)\r\n",
    "        self.add_parameter(\"pos_embed1\", self.pos_embed1)\r\n",
    "        self.pos_drop1 = nn.Dropout(p=drop_rate)\r\n",
    "\r\n",
    "        self.pos_embed2 = self.create_parameter(\r\n",
    "            shape=(1, self.patch_embed2.num_patches, embed_dims[1]), default_initializer=zeros_)\r\n",
    "        self.add_parameter(\"pos_embed2\", self.pos_embed2)\r\n",
    "        self.pos_drop2 = nn.Dropout(p=drop_rate)\r\n",
    "\r\n",
    "        self.pos_embed3 = self.create_parameter(\r\n",
    "            shape=(1, self.patch_embed3.num_patches, embed_dims[2]), default_initializer=zeros_)\r\n",
    "        self.add_parameter(\"pos_embed3\", self.pos_embed3)\r\n",
    "        self.pos_drop3 = nn.Dropout(p=drop_rate)\r\n",
    "\r\n",
    "        self.pos_embed4 = self.create_parameter(\r\n",
    "            shape=(1, self.patch_embed4.num_patches, embed_dims[3]), default_initializer=zeros_)\r\n",
    "        self.add_parameter(\"pos_embed4\", self.pos_embed4)\r\n",
    "        self.pos_drop4 = nn.Dropout(p=drop_rate)\r\n",
    "\r\n",
    "        # transformer encoder\r\n",
    "        dpr = np.linspace(0, drop_path_rate, sum(depths))\r\n",
    "        cur = 0\r\n",
    "        self.block1 = nn.LayerList([Block(\r\n",
    "            dim=embed_dims[0], num_heads=num_heads[0], mlp_ratio=mlp_ratios[0], qkv_bias=qkv_bias, qk_scale=qk_scale,\r\n",
    "            drop=drop_rate, attn_drop=attn_drop_rate, drop_path=dpr[cur +\r\n",
    "                                                                    i], norm_layer=norm_layer, epsilon=epsilon,\r\n",
    "            sr_ratio=sr_ratios[0])\r\n",
    "            for i in range(depths[0])])\r\n",
    "\r\n",
    "        cur += depths[0]\r\n",
    "        self.block2 = nn.LayerList([Block(\r\n",
    "            dim=embed_dims[1], num_heads=num_heads[1], mlp_ratio=mlp_ratios[1], qkv_bias=qkv_bias, qk_scale=qk_scale,\r\n",
    "            drop=drop_rate, attn_drop=attn_drop_rate, drop_path=dpr[cur +\r\n",
    "                                                                    i], norm_layer=norm_layer, epsilon=epsilon,\r\n",
    "            sr_ratio=sr_ratios[1])\r\n",
    "            for i in range(depths[1])])\r\n",
    "\r\n",
    "        cur += depths[1]\r\n",
    "        self.block3 = nn.LayerList([Block(\r\n",
    "            dim=embed_dims[2], num_heads=num_heads[2], mlp_ratio=mlp_ratios[2], qkv_bias=qkv_bias, qk_scale=qk_scale,\r\n",
    "            drop=drop_rate, attn_drop=attn_drop_rate, drop_path=dpr[cur +\r\n",
    "                                                                    i], norm_layer=norm_layer, epsilon=epsilon,\r\n",
    "            sr_ratio=sr_ratios[2])\r\n",
    "            for i in range(depths[2])])\r\n",
    "\r\n",
    "        cur += depths[2]\r\n",
    "        self.block4 = nn.LayerList([Block(\r\n",
    "            dim=embed_dims[3], num_heads=num_heads[3], mlp_ratio=mlp_ratios[3], qkv_bias=qkv_bias, qk_scale=qk_scale,\r\n",
    "            drop=drop_rate, attn_drop=attn_drop_rate, drop_path=dpr[cur +\r\n",
    "                                                                    i], norm_layer=norm_layer, epsilon=epsilon,\r\n",
    "            sr_ratio=sr_ratios[3])\r\n",
    "            for i in range(depths[3])])\r\n",
    "        self.norm = norm_layer(embed_dims[3])\r\n",
    "\r\n",
    "\r\n",
    "        # classification head\r\n",
    "        if class_dim > 0:\r\n",
    "            self.head = nn.Linear(embed_dims[3], class_dim)\r\n",
    "\r\n",
    "        # init weights\r\n",
    "        trunc_normal_(self.pos_embed1)\r\n",
    "        trunc_normal_(self.pos_embed2)\r\n",
    "        trunc_normal_(self.pos_embed3)\r\n",
    "        trunc_normal_(self.pos_embed4)\r\n",
    "        self.apply(self._init_weights)\r\n",
    "\r\n",
    "    def reset_drop_path(self, drop_path_rate):\r\n",
    "        dpr = np.linspace(0, drop_path_rate, sum(self.depths))\r\n",
    "        cur = 0\r\n",
    "        for i in range(self.depths[0]):\r\n",
    "            self.block1[i].drop_path.drop_prob = dpr[cur + i]\r\n",
    "\r\n",
    "        cur += self.depths[0]\r\n",
    "        for i in range(self.depths[1]):\r\n",
    "            self.block2[i].drop_path.drop_prob = dpr[cur + i]\r\n",
    "\r\n",
    "        cur += self.depths[1]\r\n",
    "        for i in range(self.depths[2]):\r\n",
    "            self.block3[i].drop_path.drop_prob = dpr[cur + i]\r\n",
    "\r\n",
    "        cur += self.depths[2]\r\n",
    "        for i in range(self.depths[3]):\r\n",
    "            self.block4[i].drop_path.drop_prob = dpr[cur + i]\r\n",
    "\r\n",
    "    def _init_weights(self, m):\r\n",
    "        if isinstance(m, nn.Linear):\r\n",
    "            trunc_normal_(m.weight)\r\n",
    "            if isinstance(m, nn.Linear) and m.bias is not None:\r\n",
    "                zeros_(m.bias)\r\n",
    "        elif isinstance(m, nn.LayerNorm):\r\n",
    "            zeros_(m.bias)\r\n",
    "            ones_(m.weight)\r\n",
    "\r\n",
    "    def forward_features(self, x):\r\n",
    "        B = x.shape[0]\r\n",
    "\r\n",
    "        # stage 1\r\n",
    "        x, (H, W) = self.patch_embed1(x)\r\n",
    "        x = x + self.pos_embed1\r\n",
    "        x = self.pos_drop1(x)\r\n",
    "        for blk in self.block1:\r\n",
    "            x = blk(x, H, W)\r\n",
    "        x = x.reshape((B, H, W, -1)).transpose((0, 3, 1, 2))\r\n",
    "\r\n",
    "        # stage 2\r\n",
    "        x, (H, W) = self.patch_embed2(x)\r\n",
    "        x = x + self.pos_embed2\r\n",
    "        x = self.pos_drop2(x)\r\n",
    "        for blk in self.block2:\r\n",
    "            x = blk(x, H, W)\r\n",
    "        x = x.reshape((B, H, W, -1)).transpose((0, 3, 1, 2))\r\n",
    "\r\n",
    "        # stage 3\r\n",
    "        x, (H, W) = self.patch_embed3(x)\r\n",
    "        x = x + self.pos_embed3\r\n",
    "        x = self.pos_drop3(x)\r\n",
    "        for blk in self.block3:\r\n",
    "            x = blk(x, H, W)\r\n",
    "        x = x.reshape((B, H, W, -1)).transpose((0, 3, 1, 2))\r\n",
    "\r\n",
    "        # stage 4\r\n",
    "        x, (H, W) = self.patch_embed4(x)\r\n",
    "        x = x + self.pos_embed4\r\n",
    "        x = self.pos_drop4(x)\r\n",
    "        for blk in self.block4:\r\n",
    "            x = blk(x, H, W)\r\n",
    "        x = x.reshape((B, H, W, -1)).transpose((0, 3, 1, 2))\r\n",
    "        x=self.pool1(x)\r\n",
    "        x=self.pool2(x)\r\n",
    "        x=x.flatten(1)\r\n",
    "        x = self.norm(x)\r\n",
    "        \r\n",
    "        return x\r\n",
    "\r\n",
    "    def forward(self, x):\r\n",
    "        x = self.forward_features(x)\r\n",
    "\r\n",
    "        if self.class_dim > 0:\r\n",
    "            x = self.head(x)\r\n",
    "\r\n",
    "        return x\r\n",
    "\r\n",
    "\r\n",
    "def pvt_ti(**kwargs):\r\n",
    "    model = PyramidVisionTransformer(\r\n",
    "        patch_size=4, embed_dims=[64, 128, 320, 512], num_heads=[1, 2, 5, 8], mlp_ratios=[8, 8, 4, 4], qkv_bias=True,\r\n",
    "        norm_layer=nn.LayerNorm, depths=[2, 2, 2, 2], sr_ratios=[8, 4, 2, 1], **kwargs)\r\n",
    "    return model\r\n",
    "\r\n",
    "\r\n",
    "def pvt_s(**kwargs):\r\n",
    "    model = PyramidVisionTransformer(\r\n",
    "        patch_size=4, embed_dims=[64, 128, 320, 512], num_heads=[1, 2, 5, 8], mlp_ratios=[8, 8, 4, 4], qkv_bias=True,\r\n",
    "        norm_layer=nn.LayerNorm, depths=[3, 4, 6, 3], sr_ratios=[8, 4, 2, 1], **kwargs)\r\n",
    "    return model\r\n",
    "\r\n",
    "\r\n",
    "def pvt_m(**kwargs):\r\n",
    "    model = PyramidVisionTransformer(\r\n",
    "        patch_size=4, embed_dims=[64, 128, 320, 512], num_heads=[1, 2, 5, 8], mlp_ratios=[8, 8, 4, 4], qkv_bias=True,\r\n",
    "        norm_layer=nn.LayerNorm, depths=[3, 4, 18, 3], sr_ratios=[8, 4, 2, 1], **kwargs)\r\n",
    "    return model\r\n",
    "\r\n",
    "\r\n",
    "def pvt_l(**kwargs):\r\n",
    "    model = PyramidVisionTransformer(\r\n",
    "        patch_size=4, embed_dims=[64, 128, 320, 512], num_heads=[1, 2, 5, 8], mlp_ratios=[8, 8, 4, 4], qkv_bias=True,\r\n",
    "        norm_layer=nn.LayerNorm, depths=[3, 8, 27, 3], sr_ratios=[8, 4, 2, 1], **kwargs)\r\n",
    "    return model"
   ]
  },
  {
   "cell_type": "code",
   "execution_count": 5,
   "metadata": {
    "collapsed": false
   },
   "outputs": [
    {
     "name": "stdout",
     "output_type": "stream",
     "text": [
      "[1, 10]\n"
     ]
    }
   ],
   "source": [
    "# 实例化模型\r\n",
    "model = pvt_ti()\r\n",
    "\r\n",
    "# 测试模型前向计算\r\n",
    "out = model(paddle.randn((1, 3, 224, 224)))\r\n",
    "\r\n",
    "# 打印输出形状\r\n",
    "print(out.shape)"
   ]
  },
  {
   "cell_type": "code",
   "execution_count": 6,
   "metadata": {
    "collapsed": false
   },
   "outputs": [
    {
     "name": "stderr",
     "output_type": "stream",
     "text": [
      "Cache file /home/aistudio/.cache/paddle/dataset/cifar/cifar-10-python.tar.gz not found, downloading https://dataset.bj.bcebos.com/cifar/cifar-10-python.tar.gz \n",
      "Begin to download\n",
      "\n",
      "Download finished\n"
     ]
    }
   ],
   "source": [
    "import paddle.vision.transforms as T\r\n",
    "from paddle.vision.datasets import Cifar10\r\n",
    "\r\n",
    "paddle.set_device('gpu')\r\n",
    "\r\n",
    "#数据准备\r\n",
    "transform = T.Compose([\r\n",
    "    T.Resize(size=(224,224)),\r\n",
    "    T.Normalize(mean=[0.485, 0.456, 0.406], std=[0.229, 0.224, 0.225],data_format='HWC'),\r\n",
    "    T.ToTensor()\r\n",
    "])\r\n",
    "\r\n",
    "train_dataset = Cifar10(mode='train', transform=transform)\r\n",
    "val_dataset = Cifar10(mode='test',  transform=transform)"
   ]
  },
  {
   "cell_type": "code",
   "execution_count": 7,
   "metadata": {
    "collapsed": false
   },
   "outputs": [],
   "source": [
    "class SaveBestModel(paddle.callbacks.Callback):\r\n",
    "    def __init__(self, target=0.5, path='./best_model', verbose=0):\r\n",
    "        self.target = target\r\n",
    "        self.epoch = None\r\n",
    "        self.path = path\r\n",
    "\r\n",
    "    def on_epoch_end(self, epoch, logs=None):\r\n",
    "        self.epoch = epoch\r\n",
    "\r\n",
    "    def on_eval_end(self, logs=None):\r\n",
    "        if logs.get('acc') > self.target:\r\n",
    "            self.target = logs.get('acc')\r\n",
    "            self.model.save(self.path)\r\n",
    "            print('best acc is {} at epoch {}'.format(self.target, self.epoch+1))\r\n",
    "callback_savebestmodel = SaveBestModel(target=0.5, path='./best_model')"
   ]
  },
  {
   "cell_type": "code",
   "execution_count": 8,
   "metadata": {
    "collapsed": false
   },
   "outputs": [],
   "source": [
    "model = pvt_ti()\r\n",
    "model = paddle.Model(model)"
   ]
  },
  {
   "cell_type": "code",
   "execution_count": null,
   "metadata": {
    "collapsed": false
   },
   "outputs": [
    {
     "name": "stdout",
     "output_type": "stream",
     "text": [
      "The loss value printed in the log is the current step, and the metric is the average value of previous steps.\n",
      "Epoch 1/50\n"
     ]
    },
    {
     "name": "stderr",
     "output_type": "stream",
     "text": [
      "/opt/conda/envs/python35-paddle120-env/lib/python3.7/site-packages/paddle/fluid/layers/utils.py:77: DeprecationWarning: Using or importing the ABCs from 'collections' instead of from 'collections.abc' is deprecated, and in 3.8 it will stop working\n",
      "  return (isinstance(seq, collections.Sequence) and\n"
     ]
    },
    {
     "name": "stdout",
     "output_type": "stream",
     "text": [
      "step   50/3125 [..............................] - loss: 2.3228 - acc: 0.1437 - ETA: 4:53 - 96ms/st"
     ]
    }
   ],
   "source": [
    "scheduler = opt.lr.CosineAnnealingDecay(learning_rate=0.0001, T_max=50)\r\n",
    "model.prepare(optimizer=paddle.optimizer.AdamW(weight_decay=0.05,learning_rate=scheduler, parameters=model.parameters()),\r\n",
    "              loss=paddle.nn.CrossEntropyLoss(),\r\n",
    "              metrics=paddle.metric.Accuracy())\r\n",
    "\r\n",
    "visualdl=paddle.callbacks.VisualDL(log_dir='visual_log') # 开启训练可视化\r\n",
    "callbacks=[visualdl,callback_savebestmodel]\r\n",
    "model.fit(\r\n",
    "    train_data=train_dataset, \r\n",
    "    eval_data=val_dataset, \r\n",
    "    batch_size=16, \r\n",
    "    epochs=50,\r\n",
    "    verbose=1,\r\n",
    "    save_dir='checkpoint',\r\n",
    "    save_freq=10,\r\n",
    "    callbacks=callbacks\r\n",
    ")"
   ]
  },
  {
   "cell_type": "code",
   "execution_count": null,
   "metadata": {
    "collapsed": false
   },
   "outputs": [],
   "source": []
  },
  {
   "cell_type": "code",
   "execution_count": null,
   "metadata": {
    "collapsed": false
   },
   "outputs": [],
   "source": []
  },
  {
   "cell_type": "markdown",
   "metadata": {
    "collapsed": false
   },
   "source": [
    "请点击[此处](https://ai.baidu.com/docs#/AIStudio_Project_Notebook/a38e5576)查看本环境基本用法.  <br>\n",
    "Please click [here ](https://ai.baidu.com/docs#/AIStudio_Project_Notebook/a38e5576) for more detailed instructions. "
   ]
  }
 ],
 "metadata": {
  "kernelspec": {
   "display_name": "Python 3",
   "language": "python",
   "name": "py35-paddle1.2.0"
  },
  "language_info": {
   "codemirror_mode": {
    "name": "ipython",
    "version": 3
   },
   "file_extension": ".py",
   "mimetype": "text/x-python",
   "name": "python",
   "nbconvert_exporter": "python",
   "pygments_lexer": "ipython3",
   "version": "3.7.4"
  }
 },
 "nbformat": 4,
 "nbformat_minor": 1
}
